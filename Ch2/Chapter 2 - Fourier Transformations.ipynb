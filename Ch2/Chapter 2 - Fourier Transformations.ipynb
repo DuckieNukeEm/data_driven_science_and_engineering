{
 "cells": [
  {
   "cell_type": "markdown",
   "id": "86222489-7213-40cc-ab2d-17ebb3754edc",
   "metadata": {},
   "source": [
    "# Data Driven Science and Engineering\n",
    "## Chapter 2 - Fourier Transformations\n",
    "To see explinations of Fourier Transformations, please see the markdown file within this folder"
   ]
  },
  {
   "cell_type": "markdown",
   "id": "b7bed3d3-f695-4531-a26c-4795522e8571",
   "metadata": {},
   "source": [
    "----\n",
    "importing libraries"
   ]
  },
  {
   "cell_type": "code",
   "execution_count": 1,
   "id": "e27d8645-22bc-4d5f-877d-23562b5831b7",
   "metadata": {},
   "outputs": [],
   "source": [
    "import numpy as np\n",
    "import pandas as pd"
   ]
  },
  {
   "cell_type": "markdown",
   "id": "eb3f2c54-fe76-4247-acb3-a45c36d372f4",
   "metadata": {},
   "source": [
    "----\n",
    "Example Fourier Series for a continuous Hat Function\n",
    "\n",
    "\n",
    "$\\Biggl\\{\\begin{align*} \n",
    "0 \\;for\\; x \\in [-\\pi,-\\pi/2 ) \\\\ \n",
    "1+2x/\\pi \\;for\\; x \\in [-\\pi/2,0) \\\\\n",
    "1-sx/\\pi \\;for\\; x\\in [0,\\pi/2)\\\\\n",
    "0 \\;for\\; x \\in [\\pi/2,\\pi)\n",
    "\\end{align*}$"
   ]
  },
  {
   "cell_type": "code",
   "execution_count": 6,
   "id": "6c505309-c89f-451e-8096-35f3e0d622d0",
   "metadata": {},
   "outputs": [],
   "source": [
    "# deinfe domain\n",
    "dx = 0.001\n",
    "L = np.pi\n",
    "x = np.arange(-1,1,dx) * L\n",
    "n = x.size\n",
    "\n",
    "# deginign hat function\n"
   ]
  },
  {
   "cell_type": "code",
   "execution_count": null,
   "id": "f7b6af0b-d66a-4107-949f-b9df70192a60",
   "metadata": {},
   "outputs": [],
   "source": []
  }
 ],
 "metadata": {
  "kernelspec": {
   "display_name": "Python 3 (ipykernel)",
   "language": "python",
   "name": "python3"
  },
  "language_info": {
   "codemirror_mode": {
    "name": "ipython",
    "version": 3
   },
   "file_extension": ".py",
   "mimetype": "text/x-python",
   "name": "python",
   "nbconvert_exporter": "python",
   "pygments_lexer": "ipython3",
   "version": "3.9.10"
  }
 },
 "nbformat": 4,
 "nbformat_minor": 5
}

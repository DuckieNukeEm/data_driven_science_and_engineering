{
 "cells": [
  {
   "cell_type": "markdown",
   "id": "86222489-7213-40cc-ab2d-17ebb3754edc",
   "metadata": {},
   "source": [
    "# Data Driven Science and Engineering\n",
    "## Chapter 2 - Fourier Transformations\n",
    "To see explinations of Fourier Transformations, please see the markdown file within this folder"
   ]
  },
  {
   "cell_type": "markdown",
   "id": "b7bed3d3-f695-4531-a26c-4795522e8571",
   "metadata": {},
   "source": [
    "----\n",
    "importing libraries"
   ]
  },
  {
   "cell_type": "code",
   "execution_count": 1,
   "id": "e27d8645-22bc-4d5f-877d-23562b5831b7",
   "metadata": {},
   "outputs": [],
   "source": [
    "import numpy as np\n",
    "import pandas as pd"
   ]
  },
  {
   "cell_type": "markdown",
   "id": "eb3f2c54-fe76-4247-acb3-a45c36d372f4",
   "metadata": {},
   "source": [
    "----\n",
    "Example Fourier Series for a continuous Hat Function\n",
    "\n",
    "\n",
    "$\\Biggl\\{\\begin{align*} \n",
    "0 \\;for\\; x \\in [-\\pi,-\\pi/2 ) \\\\ \n",
    "1+2x/\\pi \\;for\\; x \\in [-\\pi/2,0) \\\\\n",
    "1-2x/\\pi \\;for\\; x\\in [0,\\pi/2)\\\\\n",
    "0 \\;for\\; x \\in [\\pi/2,\\pi)\n",
    "\\end{align*}$"
   ]
  },
  {
   "cell_type": "code",
   "execution_count": 6,
   "id": "6c505309-c89f-451e-8096-35f3e0d622d0",
   "metadata": {},
   "outputs": [],
   "source": [
    "# deinfe domain\n",
    "dx = 0.001\n",
    "L = np.pi\n",
    "x = np.arange(-1,1,dx) * L\n",
    "n = x.size\n",
    "\n"
   ]
  },
  {
   "cell_type": "markdown",
   "id": "f4875f96-c6fc-4624-8c7c-ff50017661e2",
   "metadata": {},
   "source": [
    "**deginign hat function**  \n",
    "f = 0*x  \n",
    "f(nquart:2*nquart) = 4 *(1:nquare+1)/n;  \n",
    "f(2*nquart+1:3*nquart) = 1-4*(0:nquare-1)/n;  \n",
    "plot(x,f,'-k','LineWidth',1.5' hold on  "
   ]
  },
  {
   "cell_type": "raw",
   "id": "d6a470b3-7e8d-46d1-a8ad-a7cf1e2319a5",
   "metadata": {},
   "source": [
    "CC = jet(20); --Heatmap?  \n",
    "A0 = sum(f.*ones(Size(x))*dx;  \n",
    "fFS - A0/2;  \n",
    "for k=1:20  \n",
    "    A(k) = sum(f.*cos(pi*k*x/L))*dx;  \n",
    "    B(k)=sum(f.*sin(pi*k*x/L))*dx;  \n",
    "    fFS = FfFS + A(k) *cos(k*pi*x/L) + B(k)*sin(k*pi*x/L)  \n",
    " plot(x)  \n",
    "end  "
   ]
  },
  {
   "cell_type": "markdown",
   "id": "07afdf20-f8fc-4315-a61b-b6f9806389eb",
   "metadata": {},
   "source": [
    "$\\Biggl\\{\\begin{align*} \n",
    "0 \\;for\\; x \\in [0,L/4) \\\\ \n",
    "1 \\;for\\; x \\in [L/4,3L/4) \\\\\n",
    "0 \\;for\\; x\\in [3L/4,L)\\\\\n",
    "\\end{align*}$"
   ]
  },
  {
   "cell_type": "code",
   "execution_count": null,
   "id": "84da7ac0-16e0-485d-b564-c5a12a54205d",
   "metadata": {},
   "outputs": [],
   "source": []
  }
 ],
 "metadata": {
  "kernelspec": {
   "display_name": "Python 3 (ipykernel)",
   "language": "python",
   "name": "python3"
  },
  "language_info": {
   "codemirror_mode": {
    "name": "ipython",
    "version": 3
   },
   "file_extension": ".py",
   "mimetype": "text/x-python",
   "name": "python",
   "nbconvert_exporter": "python",
   "pygments_lexer": "ipython3",
   "version": "3.9.10"
  }
 },
 "nbformat": 4,
 "nbformat_minor": 5
}

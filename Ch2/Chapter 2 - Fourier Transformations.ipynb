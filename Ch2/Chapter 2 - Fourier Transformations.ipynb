{
 "cells": [
  {
   "cell_type": "markdown",
   "id": "86222489-7213-40cc-ab2d-17ebb3754edc",
   "metadata": {},
   "source": [
    "# Data Driven Science and Engineering\n",
    "## Chapter 2 - Fourier Transformations\n",
    "To see explinations of Fourier Transformations, please see the markdown file within this folder"
   ]
  },
  {
   "cell_type": "markdown",
   "id": "b7bed3d3-f695-4531-a26c-4795522e8571",
   "metadata": {},
   "source": [
    "----\n",
    "importing libraries"
   ]
  },
  {
   "cell_type": "code",
   "execution_count": 1,
   "id": "e27d8645-22bc-4d5f-877d-23562b5831b7",
   "metadata": {},
   "outputs": [],
   "source": [
    "import numpy as np\n",
    "import pandas as pd\n",
    "from matplotlib import pyplot as plt"
   ]
  },
  {
   "cell_type": "markdown",
   "id": "eb3f2c54-fe76-4247-acb3-a45c36d372f4",
   "metadata": {},
   "source": [
    "----\n",
    "Example Fourier Series for a continuous Hat Function\n",
    "\n",
    "\n",
    "$\\Biggl\\{\\begin{align*} \n",
    "0 \\;for\\; x \\in [-\\pi,-\\pi/2 ) \\\\ \n",
    "1+2x/\\pi \\;for\\; x \\in [-\\pi/2,0) \\\\\n",
    "1-2x/\\pi \\;for\\; x\\in [0,\\pi/2)\\\\\n",
    "0 \\;for\\; x \\in [\\pi/2,\\pi)\n",
    "\\end{align*}$"
   ]
  },
  {
   "cell_type": "code",
   "execution_count": 2,
   "id": "6c505309-c89f-451e-8096-35f3e0d622d0",
   "metadata": {},
   "outputs": [],
   "source": [
    "# define domain\n",
    "dx = 0.001\n",
    "L = np.pi\n",
    "x = np.arange(-1,1,dx) * L\n",
    "F_x = np.zeros(len(x))\n",
    "n = int(x.size/4)\n",
    "# creating function\n",
    "F_x[0:n] = 0\n",
    "F_x[n:2*n] = 1 + 2*x[n:2*n]/np.pi\n",
    "F_x[2*n:3*n] = 1 - 2*x[2*n:3*n]/np.pi\n",
    "F_x[3*n:]=0"
   ]
  },
  {
   "cell_type": "code",
   "execution_count": 3,
   "id": "1f432d6e-4a73-46a8-808c-2e10e8f61ada",
   "metadata": {},
   "outputs": [
    {
     "data": {
      "image/png": "[encoded data removed]",
      "text/plain": [
       "<Figure size 432x288 with 1 Axes>"
      ]
     },
     "metadata": {
      "needs_background": "light"
     },
     "output_type": "display_data"
    }
   ],
   "source": [
    "plt.title(\"Basic step function\") \n",
    "plt.xlabel(\"x\") \n",
    "plt.ylabel(\"valuesn\") \n",
    "plt.plot(x,F_x) \n",
    "plt.show()"
   ]
  },
  {
   "cell_type": "markdown",
   "id": "a0e0d279-d8b7-4d92-9555-a642fb88784d",
   "metadata": {},
   "source": [
    "Now doing a fourier transformation on the hat functions"
   ]
  },
  {
   "cell_type": "code",
   "execution_count": null,
   "id": "b5ca0c16-3957-4397-9d7f-507bd18c921a",
   "metadata": {},
   "outputs": [],
   "source": [
    "a_0 = np.sum(F_X)"
   ]
  },
  {
   "cell_type": "raw",
   "id": "d6a470b3-7e8d-46d1-a8ad-a7cf1e2319a5",
   "metadata": {},
   "source": [
    "CC = jet(20); --Heatmap?  \n",
    "A0 = sum(f.*ones(Size(x))*dx;  \n",
    "fFS = A0/2;  \n",
    "for k=1:20  \n",
    "    A(k) = sum(f.*cos(pi*k*x/L))*dx;  \n",
    "    B(k)=sum(f.*sin(pi*k*x/L))*dx;  \n",
    "    fFS = FfFS + A(k) *cos(k*pi*x/L) + B(k)*sin(k*pi*x/L)  \n",
    " plot(x)  \n",
    "end  "
   ]
  },
  {
   "cell_type": "markdown",
   "id": "07afdf20-f8fc-4315-a61b-b6f9806389eb",
   "metadata": {},
   "source": [
    "$\\Biggl\\{\\begin{align*} \n",
    "0 \\;for\\; x \\in [0,L/4) \\\\ \n",
    "1 \\;for\\; x \\in [L/4,3L/4) \\\\\n",
    "0 \\;for\\; x\\in [3L/4,L)\\\\\n",
    "\\end{align*}$"
   ]
  },
  {
   "cell_type": "code",
   "execution_count": null,
   "id": "84da7ac0-16e0-485d-b564-c5a12a54205d",
   "metadata": {},
   "outputs": [],
   "source": []
  }
 ],
 "metadata": {
  "kernelspec": {
   "display_name": "Python 3 (ipykernel)",
   "language": "python",
   "name": "python3"
  },
  "language_info": {
   "codemirror_mode": {
    "name": "ipython",
    "version": 3
   },
   "file_extension": ".py",
   "mimetype": "text/x-python",
   "name": "python",
   "nbconvert_exporter": "python",
   "pygments_lexer": "ipython3",
   "version": "3.9.10"
  }
 },
 "nbformat": 4,
 "nbformat_minor": 5
}
